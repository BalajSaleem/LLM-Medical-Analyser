{
 "cells": [
  {
   "cell_type": "code",
   "execution_count": 1,
   "metadata": {},
   "outputs": [
    {
     "name": "stderr",
     "output_type": "stream",
     "text": [
      "ERROR: pip's dependency resolver does not currently take into account all the packages that are installed. This behaviour is the source of the following dependency conflicts.\n",
      "scipy 1.7.3 requires numpy<1.23.0,>=1.16.5, but you have numpy 1.26.3 which is incompatible.\n"
     ]
    },
    {
     "name": "stdout",
     "output_type": "stream",
     "text": [
      "Requirement already satisfied: transformers in c:\\users\\balaj\\anaconda3\\envs\\genai\\lib\\site-packages (4.28.1)\n",
      "Requirement already satisfied: filelock in c:\\users\\balaj\\anaconda3\\envs\\genai\\lib\\site-packages (from transformers) (3.13.1)\n",
      "Requirement already satisfied: huggingface-hub<1.0,>=0.11.0 in c:\\users\\balaj\\anaconda3\\envs\\genai\\lib\\site-packages (from transformers) (0.20.2)\n",
      "Requirement already satisfied: numpy>=1.17 in c:\\users\\balaj\\anaconda3\\envs\\genai\\lib\\site-packages (from transformers) (1.26.3)\n",
      "Requirement already satisfied: packaging>=20.0 in c:\\users\\balaj\\anaconda3\\envs\\genai\\lib\\site-packages (from transformers) (23.2)\n",
      "Requirement already satisfied: pyyaml>=5.1 in c:\\users\\balaj\\anaconda3\\envs\\genai\\lib\\site-packages (from transformers) (6.0.1)\n",
      "Requirement already satisfied: regex!=2019.12.17 in c:\\users\\balaj\\anaconda3\\envs\\genai\\lib\\site-packages (from transformers) (2023.10.3)\n",
      "Requirement already satisfied: requests in c:\\users\\balaj\\anaconda3\\envs\\genai\\lib\\site-packages (from transformers) (2.31.0)\n",
      "Requirement already satisfied: tokenizers!=0.11.3,<0.14,>=0.11.1 in c:\\users\\balaj\\anaconda3\\envs\\genai\\lib\\site-packages (from transformers) (0.13.3)\n",
      "Requirement already satisfied: tqdm>=4.27 in c:\\users\\balaj\\anaconda3\\envs\\genai\\lib\\site-packages (from transformers) (4.66.1)\n",
      "Requirement already satisfied: fsspec>=2023.5.0 in c:\\users\\balaj\\anaconda3\\envs\\genai\\lib\\site-packages (from huggingface-hub<1.0,>=0.11.0->transformers) (2023.10.0)\n",
      "Requirement already satisfied: typing-extensions>=3.7.4.3 in c:\\users\\balaj\\anaconda3\\envs\\genai\\lib\\site-packages (from huggingface-hub<1.0,>=0.11.0->transformers) (4.9.0)\n",
      "Requirement already satisfied: colorama in c:\\users\\balaj\\anaconda3\\envs\\genai\\lib\\site-packages (from tqdm>=4.27->transformers) (0.4.6)\n",
      "Requirement already satisfied: charset-normalizer<4,>=2 in c:\\users\\balaj\\anaconda3\\envs\\genai\\lib\\site-packages (from requests->transformers) (3.3.2)\n",
      "Requirement already satisfied: idna<4,>=2.5 in c:\\users\\balaj\\anaconda3\\envs\\genai\\lib\\site-packages (from requests->transformers) (3.6)\n",
      "Requirement already satisfied: urllib3<3,>=1.21.1 in c:\\users\\balaj\\anaconda3\\envs\\genai\\lib\\site-packages (from requests->transformers) (2.0.7)\n",
      "Requirement already satisfied: certifi>=2017.4.17 in c:\\users\\balaj\\anaconda3\\envs\\genai\\lib\\site-packages (from requests->transformers) (2023.11.17)\n",
      "Requirement already satisfied: sentence-transformers in c:\\users\\balaj\\anaconda3\\envs\\genai\\lib\\site-packages (2.2.2)\n",
      "Requirement already satisfied: transformers<5.0.0,>=4.6.0 in c:\\users\\balaj\\anaconda3\\envs\\genai\\lib\\site-packages (from sentence-transformers) (4.28.1)\n",
      "Requirement already satisfied: tqdm in c:\\users\\balaj\\anaconda3\\envs\\genai\\lib\\site-packages (from sentence-transformers) (4.66.1)\n",
      "Requirement already satisfied: torch>=1.6.0 in c:\\users\\balaj\\anaconda3\\envs\\genai\\lib\\site-packages (from sentence-transformers) (2.1.0)\n",
      "Requirement already satisfied: torchvision in c:\\users\\balaj\\anaconda3\\envs\\genai\\lib\\site-packages (from sentence-transformers) (0.15.2a0)\n",
      "Requirement already satisfied: numpy in c:\\users\\balaj\\anaconda3\\envs\\genai\\lib\\site-packages (from sentence-transformers) (1.26.3)\n",
      "Requirement already satisfied: scikit-learn in c:\\users\\balaj\\anaconda3\\envs\\genai\\lib\\site-packages (from sentence-transformers) (1.3.0)\n",
      "Requirement already satisfied: scipy in c:\\users\\balaj\\anaconda3\\envs\\genai\\lib\\site-packages (from sentence-transformers) (1.7.3)\n",
      "Requirement already satisfied: nltk in c:\\users\\balaj\\anaconda3\\envs\\genai\\lib\\site-packages (from sentence-transformers) (3.8.1)\n",
      "Requirement already satisfied: sentencepiece in c:\\users\\balaj\\anaconda3\\envs\\genai\\lib\\site-packages (from sentence-transformers) (0.1.99)\n",
      "Requirement already satisfied: huggingface-hub>=0.4.0 in c:\\users\\balaj\\anaconda3\\envs\\genai\\lib\\site-packages (from sentence-transformers) (0.20.2)\n",
      "Requirement already satisfied: filelock in c:\\users\\balaj\\anaconda3\\envs\\genai\\lib\\site-packages (from huggingface-hub>=0.4.0->sentence-transformers) (3.13.1)\n",
      "Requirement already satisfied: fsspec>=2023.5.0 in c:\\users\\balaj\\anaconda3\\envs\\genai\\lib\\site-packages (from huggingface-hub>=0.4.0->sentence-transformers) (2023.10.0)\n",
      "Requirement already satisfied: requests in c:\\users\\balaj\\anaconda3\\envs\\genai\\lib\\site-packages (from huggingface-hub>=0.4.0->sentence-transformers) (2.31.0)\n",
      "Requirement already satisfied: pyyaml>=5.1 in c:\\users\\balaj\\anaconda3\\envs\\genai\\lib\\site-packages (from huggingface-hub>=0.4.0->sentence-transformers) (6.0.1)\n",
      "Requirement already satisfied: typing-extensions>=3.7.4.3 in c:\\users\\balaj\\anaconda3\\envs\\genai\\lib\\site-packages (from huggingface-hub>=0.4.0->sentence-transformers) (4.9.0)\n",
      "Requirement already satisfied: packaging>=20.9 in c:\\users\\balaj\\anaconda3\\envs\\genai\\lib\\site-packages (from huggingface-hub>=0.4.0->sentence-transformers) (23.2)\n",
      "Requirement already satisfied: sympy in c:\\users\\balaj\\anaconda3\\envs\\genai\\lib\\site-packages (from torch>=1.6.0->sentence-transformers) (1.12)\n",
      "Requirement already satisfied: networkx in c:\\users\\balaj\\anaconda3\\envs\\genai\\lib\\site-packages (from torch>=1.6.0->sentence-transformers) (2.8.8)\n",
      "Requirement already satisfied: jinja2 in c:\\users\\balaj\\anaconda3\\envs\\genai\\lib\\site-packages (from torch>=1.6.0->sentence-transformers) (3.1.3)\n",
      "Requirement already satisfied: colorama in c:\\users\\balaj\\anaconda3\\envs\\genai\\lib\\site-packages (from tqdm->sentence-transformers) (0.4.6)\n",
      "Requirement already satisfied: regex!=2019.12.17 in c:\\users\\balaj\\anaconda3\\envs\\genai\\lib\\site-packages (from transformers<5.0.0,>=4.6.0->sentence-transformers) (2023.10.3)\n",
      "Requirement already satisfied: tokenizers!=0.11.3,<0.14,>=0.11.1 in c:\\users\\balaj\\anaconda3\\envs\\genai\\lib\\site-packages (from transformers<5.0.0,>=4.6.0->sentence-transformers) (0.13.3)\n",
      "Requirement already satisfied: click in c:\\users\\balaj\\anaconda3\\envs\\genai\\lib\\site-packages (from nltk->sentence-transformers) (8.1.7)\n",
      "Requirement already satisfied: joblib in c:\\users\\balaj\\anaconda3\\envs\\genai\\lib\\site-packages (from nltk->sentence-transformers) (1.3.2)\n",
      "Requirement already satisfied: threadpoolctl>=2.0.0 in c:\\users\\balaj\\anaconda3\\envs\\genai\\lib\\site-packages (from scikit-learn->sentence-transformers) (3.2.0)\n",
      "Collecting numpy (from sentence-transformers)\n",
      "  Downloading numpy-1.22.4-cp310-cp310-win_amd64.whl (14.7 MB)\n",
      "     ---------------------------------------- 0.0/14.7 MB ? eta -:--:--\n",
      "     --------------------------------------- 0.0/14.7 MB 682.7 kB/s eta 0:00:22\n",
      "     --------------------------------------- 0.1/14.7 MB 525.1 kB/s eta 0:00:28\n",
      "      --------------------------------------- 0.3/14.7 MB 2.4 MB/s eta 0:00:07\n",
      "     -- ------------------------------------- 1.0/14.7 MB 6.0 MB/s eta 0:00:03\n",
      "     -- ------------------------------------- 1.0/14.7 MB 6.0 MB/s eta 0:00:03\n",
      "     ---- ----------------------------------- 1.6/14.7 MB 6.0 MB/s eta 0:00:03\n",
      "     ----- ---------------------------------- 2.1/14.7 MB 7.4 MB/s eta 0:00:02\n",
      "     ----- ---------------------------------- 2.1/14.7 MB 7.4 MB/s eta 0:00:02\n",
      "     ------- -------------------------------- 2.8/14.7 MB 6.7 MB/s eta 0:00:02\n",
      "     -------- ------------------------------- 3.1/14.7 MB 7.4 MB/s eta 0:00:02\n",
      "     --------- ------------------------------ 3.5/14.7 MB 6.9 MB/s eta 0:00:02\n",
      "     ------------ --------------------------- 4.8/14.7 MB 9.0 MB/s eta 0:00:02\n",
      "     ---------------- ----------------------- 6.1/14.7 MB 10.3 MB/s eta 0:00:01\n",
      "     ------------------- -------------------- 7.1/14.7 MB 10.8 MB/s eta 0:00:01\n",
      "     ---------------------- ----------------- 8.4/14.7 MB 12.2 MB/s eta 0:00:01\n",
      "     ---------------------- ----------------- 8.4/14.7 MB 12.2 MB/s eta 0:00:01\n",
      "     ---------------------- ----------------- 8.4/14.7 MB 12.2 MB/s eta 0:00:01\n",
      "     ------------------------- -------------- 9.3/14.7 MB 11.7 MB/s eta 0:00:01\n",
      "     --------------------------- ----------- 10.5/14.7 MB 13.9 MB/s eta 0:00:01\n",
      "     ------------------------------ -------- 11.5/14.7 MB 15.6 MB/s eta 0:00:01\n",
      "     ------------------------------ -------- 11.5/14.7 MB 15.6 MB/s eta 0:00:01\n",
      "     -------------------------------- ------ 12.3/14.7 MB 16.8 MB/s eta 0:00:01\n",
      "     ----------------------------------- --- 13.4/14.7 MB 15.6 MB/s eta 0:00:01\n",
      "     ------------------------------------- - 14.2/14.7 MB 17.2 MB/s eta 0:00:01\n",
      "     ------------------------------------- - 14.3/14.7 MB 16.4 MB/s eta 0:00:01\n",
      "     ------------------------------------- - 14.3/14.7 MB 16.4 MB/s eta 0:00:01\n",
      "     ------------------------------------- - 14.3/14.7 MB 16.4 MB/s eta 0:00:01\n",
      "     ------------------------------------- - 14.3/14.7 MB 16.4 MB/s eta 0:00:01\n",
      "     ------------------------------------- - 14.3/14.7 MB 12.4 MB/s eta 0:00:01\n",
      "     ------------------------------------- - 14.3/14.7 MB 11.9 MB/s eta 0:00:01\n",
      "     --------------------------------------  14.4/14.7 MB 11.3 MB/s eta 0:00:01\n",
      "     --------------------------------------  14.5/14.7 MB 10.7 MB/s eta 0:00:01\n",
      "     --------------------------------------  14.5/14.7 MB 10.2 MB/s eta 0:00:01\n",
      "     --------------------------------------  14.6/14.7 MB 10.1 MB/s eta 0:00:01\n",
      "     ---------------------------------------  14.7/14.7 MB 9.6 MB/s eta 0:00:01\n",
      "     ---------------------------------------- 14.7/14.7 MB 9.3 MB/s eta 0:00:00\n",
      "Requirement already satisfied: pillow!=8.3.*,>=5.3.0 in c:\\users\\balaj\\anaconda3\\envs\\genai\\lib\\site-packages (from torchvision->sentence-transformers) (9.4.0)\n",
      "Requirement already satisfied: MarkupSafe>=2.0 in c:\\users\\balaj\\anaconda3\\envs\\genai\\lib\\site-packages (from jinja2->torch>=1.6.0->sentence-transformers) (2.1.3)\n",
      "Requirement already satisfied: charset-normalizer<4,>=2 in c:\\users\\balaj\\anaconda3\\envs\\genai\\lib\\site-packages (from requests->huggingface-hub>=0.4.0->sentence-transformers) (3.3.2)\n",
      "Requirement already satisfied: idna<4,>=2.5 in c:\\users\\balaj\\anaconda3\\envs\\genai\\lib\\site-packages (from requests->huggingface-hub>=0.4.0->sentence-transformers) (3.6)\n",
      "Requirement already satisfied: urllib3<3,>=1.21.1 in c:\\users\\balaj\\anaconda3\\envs\\genai\\lib\\site-packages (from requests->huggingface-hub>=0.4.0->sentence-transformers) (2.0.7)\n",
      "Requirement already satisfied: certifi>=2017.4.17 in c:\\users\\balaj\\anaconda3\\envs\\genai\\lib\\site-packages (from requests->huggingface-hub>=0.4.0->sentence-transformers) (2023.11.17)\n",
      "Requirement already satisfied: mpmath>=0.19 in c:\\users\\balaj\\anaconda3\\envs\\genai\\lib\\site-packages (from sympy->torch>=1.6.0->sentence-transformers) (1.3.0)\n",
      "Installing collected packages: numpy\n",
      "  Attempting uninstall: numpy\n",
      "    Found existing installation: numpy 1.26.3\n",
      "    Uninstalling numpy-1.26.3:\n",
      "      Successfully uninstalled numpy-1.26.3\n",
      "Successfully installed numpy-1.22.4\n",
      "Done\n"
     ]
    },
    {
     "name": "stderr",
     "output_type": "stream",
     "text": [
      "ERROR: pip's dependency resolver does not currently take into account all the packages that are installed. This behaviour is the source of the following dependency conflicts.\n",
      "chromadb 0.4.22 requires numpy>=1.22.5, but you have numpy 1.22.4 which is incompatible.\n"
     ]
    }
   ],
   "source": [
    "!pip install --upgrade openai -q\n",
    "!pip install --upgrade boto3 -q\n",
    "!pip install langchain -q\n",
    "!pip install langchain-openai -q\n",
    "!pip install langchain-community -q\n",
    "!pip install pypdf -q\n",
    "!pip install chromadb -q \n",
    "!pip install pandas -q\n",
    "!pip install transformers \n",
    "!pip install -U sentence-transformers\n",
    "!pip install kor\n",
    "print('Done')\n"
   ]
  },
  {
   "cell_type": "code",
   "execution_count": 2,
   "metadata": {},
   "outputs": [],
   "source": [
    "# Judge Using LLM Judge\n",
    "# Use Claude + Open AI\n",
    "# Use RAG to get treatment info\n",
    "# Use COT + Few shot\n",
    "# Use Automated prompt engineering, make llm create a prompt\n",
    "# Self Consistency, have multiple outputs polled"
   ]
  },
  {
   "cell_type": "code",
   "execution_count": 7,
   "metadata": {},
   "outputs": [
    {
     "name": "stderr",
     "output_type": "stream",
     "text": [
      "c:\\Users\\Balaj\\anaconda3\\envs\\genai\\lib\\site-packages\\tqdm\\auto.py:21: TqdmWarning: IProgress not found. Please update jupyter and ipywidgets. See https://ipywidgets.readthedocs.io/en/stable/user_install.html\n",
      "  from .autonotebook import tqdm as notebook_tqdm\n"
     ]
    }
   ],
   "source": [
    "from sentence_transformers import SentenceTransformer\n",
    "from langchain_community.document_loaders import PyPDFLoader\n",
    "from langchain.text_splitter import RecursiveCharacterTextSplitter\n",
    "import random\n",
    "from langchain.embeddings import HuggingFaceEmbeddings\n",
    "from langchain_community.vectorstores import Chroma\n",
    "import pandas as pd\n"
   ]
  },
  {
   "cell_type": "code",
   "execution_count": 8,
   "metadata": {},
   "outputs": [],
   "source": [
    "medical_record_paths = [\n",
    "    'task\\medical-record-1.pdf',\n",
    "    'task\\medical-record-2.pdf',\n",
    "    'task\\medical-record-3.pdf'\n",
    "]\n",
    "record_index = 0"
   ]
  },
  {
   "cell_type": "code",
   "execution_count": 9,
   "metadata": {},
   "outputs": [
    {
     "data": {
      "text/plain": [
       "'Co:Helm  \\nMEDICAL RECORD Patient Name: James Freeman DOB: 06/16/1982 MRN: 456789123 Sex: Male  PRESENTING COMPLAINT Symptoms: Occasional rectal bleeding and abdominal discomfort for the past 6 months. Duration: 6 months.  PATIENT INFORMATION Name: James Freeman DOB: 06/16/1982 Gender: Male Address: 4521 Maple Avenue, Dallas, Texas 75219 Contact Number: (214) 555-0123 Emergency Contact: Not provided  MEDICAL HISTORY • Family History: Father had colorectal cancer at age 68. • Personal Medical History: Hypertension, managed with medication. • Medications: Lisinopril 10mg daily. • Allergies: No known drug allergies.  ALLERGIES • Allergies not reviewed (last reviewed 11/28/2022) • NKDA\\nCo:Helm  \\nVITALS Ht: 6ft2 Wt: 165lbs BMI: 31.2 Pulse: 96bpm  PHYSICAL EXAMINATION Findings: Mild tenderness in the lower abdomen, no palpable masses.  DIAGNOSTIC TESTS AND RESULTS Blood Tests: Hemoglobin slightly low at 12.4 g/dL, rest of the complete blood count within normal limits. Normal liver function tests. Imaging Studies: None conducted.  HISTORY Appendectomy (44970): Patient underwent an appendectomy due to acute appendicitis in 2015. (Laparoscopy, surgical, appendectomy). Knee Arthroscopy (29881): Underwent left knee arthroscopy due to meniscal tear in 2018. (Arthroscopy, knee, surgical; with meniscectomy [medial OR lateral, including any meniscal shaving]).  NOTES Px underwent treatment for abdominal discomfort 1y ago. Rectal bleeding. Tx failed to yield significant improvement. Rpt 6wk ago led to noticeable improvement in symptoms.  CLINICAL IMPRESSION Possible internal hemorrhoids or polyps; colorectal cancer to be ruled out.\\nCo:Helm  \\nPLAN 1. Colonoscopy: Scheduled for 12/15/2023. The purpose is to investigate the cause of symptoms and to screen for colorectal cancer or polyps. This code represents a standard diagnostic colonoscopy. 2. Pre-Procedure Instructions: Clear liquid diet 24 hours before the procedure. Bowel preparation with polyethylene glycol solution starting the evening before the procedure. No solid foods, milk, or orange/red colored liquids. Regular medications can be taken with small sips of water. 3. Post-Procedure Care: Patient to be observed for any signs of complications such as severe pain, fever, or excessive bleeding. Advised to rest for the remainder of the day. Normal diet can be resumed the following day unless otherwise advised. 4. Consent: The patient has been informed about the benefits, risks, and alternatives to the procedure and has given informed consent.   FOLLOW-UP Appointment scheduled for 12/22/2023 to discuss the results of the colonoscopy and next steps in management.   Requested procedure: 45378'"
      ]
     },
     "execution_count": 9,
     "metadata": {},
     "output_type": "execute_result"
    }
   ],
   "source": [
    "loader = PyPDFLoader(medical_record_paths[record_index])\n",
    "pages = loader.load_and_split()\n",
    "medical_record = '\\n'.join([page.page_content for page in pages]) \n",
    "medical_record"
   ]
  },
  {
   "cell_type": "markdown",
   "metadata": {},
   "source": [
    "### RAG to Fetch Relevent information"
   ]
  },
  {
   "cell_type": "code",
   "execution_count": 48,
   "metadata": {},
   "outputs": [
    {
     "name": "stdout",
     "output_type": "stream",
     "text": [
      "PREVIOUS MEDICAL PROCEDURES: • Gallbladder Removal, Cholecystectomy (47562): Underwent a cholecystectomy several years ago. The postoperative course and its relation to current symptoms are unclear. (Laparoscopy, surgical; cholecystectomy). • Lower Back Pain Management: Received physical therapy for lower back pain and abdominal symptoms. Several weeks ago.\n",
      "9\n"
     ]
    }
   ],
   "source": [
    "# Chunk the output\n",
    "\n",
    "# Use the recursive character splitter\n",
    "recur_splitter = RecursiveCharacterTextSplitter(\n",
    "    chunk_size=400,\n",
    "    chunk_overlap=60,\n",
    "    separators=[\"\\n\\n\", \"\\n\", \"(?<=\\. )\", \" \", \"\"],\n",
    "    is_separator_regex=True,\n",
    ")\n",
    "\n",
    "# Perform the splits using the splitter\n",
    "data_splits = recur_splitter.split_documents(pages)\n",
    "print(random.choice(data_splits).page_content)\n",
    "print(len(data_splits))"
   ]
  },
  {
   "cell_type": "code",
   "execution_count": 3,
   "metadata": {},
   "outputs": [
    {
     "data": {
      "text/plain": [
       "12"
      ]
     },
     "execution_count": 3,
     "metadata": {},
     "output_type": "execute_result"
    }
   ],
   "source": [
    "model = SentenceTransformer('multi-qa-MiniLM-L6-cos-v1')\n",
    "embeddings = model.encode([split.page_content for split in data_splits]).tolist()\n",
    "len(embeddings)"
   ]
  },
  {
   "cell_type": "code",
   "execution_count": 4,
   "metadata": {},
   "outputs": [],
   "source": [
    "### Using embeddings by MPNET\n",
    "# model_name = \"sentence-transformers/all-mpnet-base-v2\"\n",
    "model_name = \"multi-qa-MiniLM-L6-cos-v1\"\n",
    "encode_kwargs = {\"normalize_embeddings\": False}\n",
    "hf_embeddings = HuggingFaceEmbeddings(\n",
    "    model_name=model_name, encode_kwargs=encode_kwargs\n",
    ")"
   ]
  },
  {
   "cell_type": "code",
   "execution_count": 5,
   "metadata": {},
   "outputs": [],
   "source": [
    "db = Chroma.from_documents(data_splits, hf_embeddings)"
   ]
  },
  {
   "cell_type": "code",
   "execution_count": 6,
   "metadata": {},
   "outputs": [
    {
     "name": "stderr",
     "output_type": "stream",
     "text": [
      "c:\\Users\\Balaj\\anaconda3\\envs\\genai\\lib\\site-packages\\langchain_core\\vectorstores.py:311: UserWarning: Relevance scores must be between 0 and 1, got [(Document(page_content='NOTES Px underwent treatment for abdominal discomfort 1y ago. Rectal bleeding. Tx failed to yield significant improvement. Rpt 6wk ago led to noticeable improvement in symptoms.  CLINICAL IMPRESSION Possible internal hemorrhoids or polyps; colorectal cancer to be ruled out.', metadata={'page': 1, 'source': 'task\\\\medical-record-1.pdf'}), 0.10306870215481312), (Document(page_content='• Medications: Lisinopril 10mg daily. • Allergies: No known drug allergies.  ALLERGIES • Allergies not reviewed (last reviewed 11/28/2022) • NKDA', metadata={'page': 0, 'source': 'task\\\\medical-record-1.pdf'}), 0.07417670032580714), (Document(page_content='No solid foods, milk, or orange/red colored liquids. Regular medications can be taken with small sips of water. 3. Post-Procedure Care: Patient to be observed for any signs of complications such as severe pain, fever, or excessive bleeding. Advised to rest for the remainder of the day. Normal diet can be resumed the following day unless otherwise advised. 4.', metadata={'page': 2, 'source': 'task\\\\medical-record-1.pdf'}), 0.0022308498059526727), (Document(page_content='Imaging Studies: None conducted.  HISTORY Appendectomy (44970): Patient underwent an appendectomy due to acute appendicitis in 2015. (Laparoscopy, surgical, appendectomy). Knee Arthroscopy (29881): Underwent left knee arthroscopy due to meniscal tear in 2018. (Arthroscopy, knee, surgical; with meniscectomy [medial OR lateral, including any meniscal shaving]).', metadata={'page': 1, 'source': 'task\\\\medical-record-1.pdf'}), -0.06447463015745125)]\n",
      "  warnings.warn(\n"
     ]
    },
    {
     "data": {
      "text/html": [
       "<div>\n",
       "<style scoped>\n",
       "    .dataframe tbody tr th:only-of-type {\n",
       "        vertical-align: middle;\n",
       "    }\n",
       "\n",
       "    .dataframe tbody tr th {\n",
       "        vertical-align: top;\n",
       "    }\n",
       "\n",
       "    .dataframe thead th {\n",
       "        text-align: right;\n",
       "    }\n",
       "</style>\n",
       "<table border=\"1\" class=\"dataframe\">\n",
       "  <thead>\n",
       "    <tr style=\"text-align: right;\">\n",
       "      <th></th>\n",
       "      <th>Retrieved Chunks</th>\n",
       "      <th>Relevance Score</th>\n",
       "    </tr>\n",
       "  </thead>\n",
       "  <tbody>\n",
       "    <tr>\n",
       "      <th>0</th>\n",
       "      <td>NOTES Px underwent treatment for abdominal discomfort 1y ago. Rectal bleeding. Tx failed to yield significant improvement. Rpt 6wk ago led to noticeable improvement in symptoms.  CLINICAL IMPRESSION Possible internal hemorrhoids or polyps; colorectal cancer to be ruled out.</td>\n",
       "      <td>0.103069</td>\n",
       "    </tr>\n",
       "    <tr>\n",
       "      <th>1</th>\n",
       "      <td>• Medications: Lisinopril 10mg daily. • Allergies: No known drug allergies.  ALLERGIES • Allergies not reviewed (last reviewed 11/28/2022) • NKDA</td>\n",
       "      <td>0.074177</td>\n",
       "    </tr>\n",
       "    <tr>\n",
       "      <th>2</th>\n",
       "      <td>No solid foods, milk, or orange/red colored liquids. Regular medications can be taken with small sips of water. 3. Post-Procedure Care: Patient to be observed for any signs of complications such as severe pain, fever, or excessive bleeding. Advised to rest for the remainder of the day. Normal diet can be resumed the following day unless otherwise advised. 4.</td>\n",
       "      <td>0.002231</td>\n",
       "    </tr>\n",
       "    <tr>\n",
       "      <th>3</th>\n",
       "      <td>Imaging Studies: None conducted.  HISTORY Appendectomy (44970): Patient underwent an appendectomy due to acute appendicitis in 2015. (Laparoscopy, surgical, appendectomy). Knee Arthroscopy (29881): Underwent left knee arthroscopy due to meniscal tear in 2018. (Arthroscopy, knee, surgical; with meniscectomy [medial OR lateral, including any meniscal shaving]).</td>\n",
       "      <td>-0.064475</td>\n",
       "    </tr>\n",
       "  </tbody>\n",
       "</table>\n",
       "</div>"
      ],
      "text/plain": [
       "                                                                                                                                                                                                                                                                                                                                                            Retrieved Chunks  \\\n",
       "0                                                                                         NOTES Px underwent treatment for abdominal discomfort 1y ago. Rectal bleeding. Tx failed to yield significant improvement. Rpt 6wk ago led to noticeable improvement in symptoms.  CLINICAL IMPRESSION Possible internal hemorrhoids or polyps; colorectal cancer to be ruled out.   \n",
       "1                                                                                                                                                                                                                          • Medications: Lisinopril 10mg daily. • Allergies: No known drug allergies.  ALLERGIES • Allergies not reviewed (last reviewed 11/28/2022) • NKDA   \n",
       "2   No solid foods, milk, or orange/red colored liquids. Regular medications can be taken with small sips of water. 3. Post-Procedure Care: Patient to be observed for any signs of complications such as severe pain, fever, or excessive bleeding. Advised to rest for the remainder of the day. Normal diet can be resumed the following day unless otherwise advised. 4.   \n",
       "3  Imaging Studies: None conducted.  HISTORY Appendectomy (44970): Patient underwent an appendectomy due to acute appendicitis in 2015. (Laparoscopy, surgical, appendectomy). Knee Arthroscopy (29881): Underwent left knee arthroscopy due to meniscal tear in 2018. (Arthroscopy, knee, surgical; with meniscectomy [medial OR lateral, including any meniscal shaving]).   \n",
       "\n",
       "   Relevance Score  \n",
       "0         0.103069  \n",
       "1         0.074177  \n",
       "2         0.002231  \n",
       "3        -0.064475  "
      ]
     },
     "metadata": {},
     "output_type": "display_data"
    }
   ],
   "source": [
    "query = \"What treatment has been recomended?\"\n",
    "# Retrieve similar chunks based on relevance. We only retrieve 'k' most similar chunks\n",
    "similar_chunks = db.similarity_search_with_relevance_scores(query, k=4)\n",
    "\n",
    "# Format document to text format\n",
    "retrieved_text = [chunk[0].page_content for chunk in similar_chunks]\n",
    "relevance_score = [chunk[1] for chunk in similar_chunks]\n",
    "\n",
    "# Store and print as a dataframe\n",
    "retrieved_chunks = pd.DataFrame(\n",
    "    list(zip(retrieved_text, relevance_score)),\n",
    "    columns=[\"Retrieved Chunks\", \"Relevance Score\"],\n",
    ")\n",
    "with pd.option_context(\"display.max_colwidth\", None):\n",
    "    display(retrieved_chunks)"
   ]
  },
  {
   "cell_type": "markdown",
   "metadata": {},
   "source": [
    "### Processing through LLM"
   ]
  },
  {
   "cell_type": "code",
   "execution_count": 92,
   "metadata": {},
   "outputs": [
    {
     "data": {
      "text/plain": [
       "AIMessage(content=\"J'adore la programmation.\")"
      ]
     },
     "execution_count": 92,
     "metadata": {},
     "output_type": "execute_result"
    }
   ],
   "source": [
    "# from langchain.prompts.chat import (\n",
    "#     ChatPromptTemplate,\n",
    "#     HumanMessagePromptTemplate,\n",
    "# )\n",
    "\n",
    "\n",
    "# medical_prompt = \"{text}\"\n",
    "# human_message_prompt = HumanMessagePromptTemplate.from_template(medical_prompt)\n",
    "# chat_prompt = ChatPromptTemplate.from_messages(\n",
    "#     [system_message_prompt, human_message_prompt]\n",
    "# )\n",
    "\n",
    "# get a chat completion from the formatted messages\n",
    "# chat(chat_prompt.format_prompt(text=\"I love programming.\").to_messages())"
   ]
  },
  {
   "cell_type": "code",
   "execution_count": 10,
   "metadata": {},
   "outputs": [
    {
     "data": {
      "text/plain": [
       "AIMessage(content=\"As a medical assistant and an expert in medical records, I possess a range of skills and knowledge that enable me to effectively handle complex medical documents. Here are some key areas in which I excel:\\n\\n1. Medical Terminology: I have a deep understanding of medical terminology, including anatomy, physiology, and various medical conditions. This expertise allows me to comprehend and accurately interpret medical records, including diagnoses, procedures, and treatment plans.\\n\\n2. Knowledge of Medical Coding Systems: I am well-versed in various coding systems such as ICD-10 (International Classification of Diseases) and CPT (Current Procedural Terminology). This knowledge helps me accurately assign appropriate codes to medical procedures and diagnoses, ensuring proper documentation and billing.\\n\\n3. Attention to Detail: I possess a keen eye for detail, which is essential when working with complex medical records. I can identify inconsistencies, errors, or missing information, ensuring accuracy and completeness of records.\\n\\n4. Data Entry and Management: I am proficient in electronic health record (EHR) systems and other software used to manage medical records. I can efficiently input and organize patient information, test results, medications, and other relevant data.\\n\\n5. Privacy and Security: I am well-versed in HIPAA regulations and guidelines, ensuring the confidentiality and security of patients' medical records. I adhere to strict protocols to protect sensitive information and maintain privacy.\\n\\n6. Communication and Collaboration: I possess strong interpersonal skills, allowing me to effectively communicate with healthcare professionals, insurance providers, and patients. I can collaborate with various stakeholders to ensure accurate and comprehensive medical record documentation.\\n\\n7. Record Extraction and Analysis: I have the ability to extract relevant information from complex medical records, such as patient histories, lab results, and progress notes. I can analyze this information to identify patterns, trends, or potential issues that may require attention.\\n\\n8. Organization and Time Management: I am skilled in organizing and prioritizing tasks, ensuring that medical records are properly managed within specified timelines. This helps in maintaining an efficient workflow and ensuring that records are readily accessible when needed.\\n\\nOverall, my expertise in understanding, processing, and extracting information from complex medical documents allows me to play a crucial role in maintaining accurate and comprehensive medical records, supporting healthcare professionals in delivering quality patient care.\")"
      ]
     },
     "execution_count": 10,
     "metadata": {},
     "output_type": "execute_result"
    }
   ],
   "source": [
    "from langchain_openai import ChatOpenAI\n",
    "# Sanity Check\n",
    "gpt = ChatOpenAI(model='gpt-3.5-turbo')\n",
    "gpt.invoke('You are a medical assistant and an expert in medical records. You are skilled in understanding, processing and extracting information from complex medical documents.')"
   ]
  },
  {
   "cell_type": "code",
   "execution_count": 52,
   "metadata": {},
   "outputs": [],
   "source": [
    "from openai import OpenAI\n",
    "from IPython.display import Markdown\n",
    "from langchain.schema import HumanMessage, SystemMessage\n",
    "from langchain_openai import ChatOpenAI\n",
    "\n",
    "client = OpenAI()\n",
    "gpt = ChatOpenAI(model='gpt-3.5-turbo', temperature=0)\n",
    "system_prompt = \"You are a medical assistant and an expert in medical records. You are skilled in understanding, processing and breaking down complex medical documents.\"\n",
    "\n",
    "def call_model(prompt:str) -> str:\n",
    "    completion = client.chat.completions.create(\n",
    "    model=\"gpt-3.5-turbo\",\n",
    "    messages=[\n",
    "        {\"role\": \"system\", \"content\": system_prompt},\n",
    "        {\"role\": \"user\", \"content\": prompt}\n",
    "    ]\n",
    "    )\n",
    "    return completion.choices[0].message.content\n",
    "\n",
    "\n",
    "def call_model_lc(prompt:str) -> str:\n",
    "    messages = [\n",
    "        SystemMessage(\n",
    "            content=system_prompt\n",
    "        ),\n",
    "        HumanMessage(\n",
    "            content=prompt\n",
    "        ),\n",
    "    ]\n",
    "    return gpt(messages).content\n",
    "    "
   ]
  },
  {
   "cell_type": "code",
   "execution_count": 54,
   "metadata": {},
   "outputs": [
    {
     "data": {
      "text/plain": [
       "\"I'm sorry, but I'm not sure what you are asking. Could you please provide more context or clarify your question?\""
      ]
     },
     "execution_count": 54,
     "metadata": {},
     "output_type": "execute_result"
    }
   ],
   "source": [
    "call_model_lc('what is what')"
   ]
  },
  {
   "cell_type": "markdown",
   "metadata": {},
   "source": [
    "### Phase 0 - Extract Recomended Treatment"
   ]
  },
  {
   "cell_type": "code",
   "execution_count": 38,
   "metadata": {},
   "outputs": [],
   "source": [
    "recomended_treatment_prompt = f\"\"\"\n",
    "You are given a patient's health record below. It contains various sections on medical and clinical information on to the patient\n",
    "\n",
    "{medical_record}\n",
    "\n",
    "Use the health record to determine the treatment(s) recomended by the doctor and extract any CPT code(s) if present. \n",
    "\"\"\""
   ]
  },
  {
   "cell_type": "code",
   "execution_count": 39,
   "metadata": {},
   "outputs": [
    {
     "data": {
      "text/markdown": [
       "Based on the patient's health record, the treatments recommended by the doctor are as follows:\n",
       "\n",
       "1. Colonoscopy: Scheduled for 12/15/2023. The purpose is to investigate the cause of symptoms and to screen for colorectal cancer or polyps. This code represents a standard diagnostic colonoscopy.\n",
       "\n",
       "The CPT code for this procedure is 45378.\n",
       "\n",
       "Please note that there may be additional treatments or procedures not mentioned in the health record provided."
      ],
      "text/plain": [
       "<IPython.core.display.Markdown object>"
      ]
     },
     "execution_count": 39,
     "metadata": {},
     "output_type": "execute_result"
    }
   ],
   "source": [
    "treatment_output = call_model(recomended_treatment_prompt)\n",
    "Markdown(treatment_output)"
   ]
  },
  {
   "cell_type": "markdown",
   "metadata": {},
   "source": [
    "#### Phase 1 - Determine Past Treatment Success"
   ]
  },
  {
   "cell_type": "code",
   "execution_count": 79,
   "metadata": {},
   "outputs": [],
   "source": [
    "past_treatment_prompt = f\"\"\"\n",
    "You are given a patient's health record below. It contains various sections on medical and clinical information on to the patient\n",
    "\n",
    "{medical_record}\n",
    "\n",
    "\n",
    "Analyse the record. Take the following steps in order:\n",
    "1. Identify the patient's current symptoms\n",
    "2. Use the health record to identify any prior treatments if present.\n",
    "3. Determine if the prior treatments improved the patient's current symptoms. \n",
    "\n",
    "\n",
    "Use your analysis to create the output below:\n",
    "\n",
    "prior_treatments_success: Determine if the prior treatments improved the patient's current symptoms. (boolean)\n",
    "evidence: Present evidence from the medical record for your answer to \"prior_treatment_failed\"\n",
    "\"\"\""
   ]
  },
  {
   "cell_type": "code",
   "execution_count": 80,
   "metadata": {},
   "outputs": [
    {
     "data": {
      "text/plain": [
       "'\\nYour output must be in the json format described below:\\n\\n\\n[{{\\n\"treatment\": <Name of the treatment>\\n\"success\": <Boolean - True OR False>\\n\"details\": <the relevant details from the health record> \\n}}]\\n\\nHere is an example of an acceptable output:\\n\\n[{{\\n\"treatment\": \"Appendicectomy\"\\n\"successful\": False\\n\"details\": \"The patient underwent a appendicectomy few months ago. There were no further complications, the relation to current symptons is unclear\"\\n\"\"\\n}},\\n'"
      ]
     },
     "execution_count": 80,
     "metadata": {},
     "output_type": "execute_result"
    }
   ],
   "source": [
    "\"\"\"\n",
    "Your output must be in the json format described below:\n",
    "\n",
    "\n",
    "[{{\n",
    "\"treatment\": <Name of the treatment>\n",
    "\"success\": <Boolean - True OR False>\n",
    "\"details\": <the relevant details from the health record> \n",
    "}}]\n",
    "\n",
    "Here is an example of an acceptable output:\n",
    "\n",
    "[{{\n",
    "\"treatment\": \"Appendicectomy\"\n",
    "\"successful\": False\n",
    "\"details\": \"The patient underwent a appendicectomy few months ago. There were no further complications, the relation to current symptons is unclear\"\n",
    "\"\"\n",
    "}},\n",
    "\"\"\""
   ]
  },
  {
   "cell_type": "code",
   "execution_count": 91,
   "metadata": {},
   "outputs": [],
   "source": [
    "from langchain.prompts import PromptTemplate\n",
    "from langchain_core.output_parsers import JsonOutputParser\n",
    "\n",
    "parser = JsonOutputParser()\n",
    "\n",
    "prompt = PromptTemplate(\n",
    "    template=\"Answer the user query.\\n{format_instructions}\\n{query}\\n\",\n",
    "    input_variables=[\"query\"],\n",
    "    partial_variables={\"format_instructions\": parser.get_format_instructions()},\n",
    ")\n",
    "\n",
    "chain = prompt | gpt | parser\n",
    "\n",
    "output = chain.invoke({\"query\": past_treatment_prompt})"
   ]
  },
  {
   "cell_type": "code",
   "execution_count": 92,
   "metadata": {},
   "outputs": [
    {
     "data": {
      "text/plain": [
       "{'prior_treatments_success': False,\n",
       " 'evidence': \"The patient's current symptoms of persistent upper abdominal pain and heartburn have not improved with over-the-counter antacids started in June 2023.\"}"
      ]
     },
     "execution_count": 92,
     "metadata": {},
     "output_type": "execute_result"
    }
   ],
   "source": [
    "output"
   ]
  },
  {
   "cell_type": "code",
   "execution_count": 70,
   "metadata": {},
   "outputs": [
    {
     "data": {
      "text/markdown": [
       "Output:\n",
       "\n",
       "1. Patient's Current Symptoms:\n",
       "   - Occasional rectal bleeding\n",
       "   - Abdominal discomfort for the past 6 months\n",
       "\n",
       "2. Prior Treatments:\n",
       "   The record mentions a prior treatment for abdominal discomfort 1 year ago, which failed to yield significant improvement.\n",
       "   - No specific details about the treatment are mentioned.\n",
       "\n",
       "3. Prior Treatments' Success:\n",
       "   Based on the information provided in the record, it is unclear whether the prior treatments improved the patient's current symptoms. The record mentions that a repeat examination 6 weeks ago led to noticeable improvement in symptoms, but it does not specify the treatment given during that time. Therefore, it is not possible to determine if the prior treatments were successful in improving the patient's current symptoms.\n",
       "\n",
       "Evidence:\n",
       "   - The record does not provide specific evidence regarding the success or failure of the prior treatments. More detailed information about the treatments and their outcomes would be needed to draw any conclusions."
      ],
      "text/plain": [
       "<IPython.core.display.Markdown object>"
      ]
     },
     "execution_count": 70,
     "metadata": {},
     "output_type": "execute_result"
    }
   ],
   "source": [
    "past_treatment_output = call_model(past_treatment_prompt)\n",
    "Markdown(past_treatment_output)"
   ]
  },
  {
   "cell_type": "markdown",
   "metadata": {},
   "source": [
    "#### Phase X - Guideline Enrichment"
   ]
  },
  {
   "cell_type": "code",
   "execution_count": 84,
   "metadata": {},
   "outputs": [],
   "source": [
    "colonoscopy_guidelines = \"\"\"\n",
    "[45378] Colonoscopy, flexible; diagnostic \n",
    " \n",
    "•  Colorectal cancer screening, as indicated by 1 or more of the following: \n",
    "o  Patient has average-risk or higher, as indicated by ALL of the following \n",
    "§  Age 45 years or older \n",
    "§  No colonoscopy in past 10 years \n",
    "o  High risk family history, as indicated by 1 or more of the following: \n",
    "§  Colorectal cancer diagnosed in one or more first-degree relatives of any age and ALL of the following: \n",
    "•  Age 40 years or older \n",
    "•  Symptomatic (eg, abdominal pain, iron deficiency anemia, rectal bleeding) \n",
    "§  Family member with colonic adenomatous polyposis of unknown etiology \n",
    "o  Juvenile polyposis syndrome diagnosis indicated by 1 or more of the following: \n",
    "§  Age 12 years or older and symptomatic (eg, abdominal pain, iron deficiency anemia, rectal bleeding, \n",
    "telangiectasia) \n",
    "§  Age younger than 12 years and symptomatic (eg, abdominal pain, iron deficiency anemia, rectal bleeding, \n",
    "telangiectasia) \n",
    "\"\"\""
   ]
  },
  {
   "cell_type": "code",
   "execution_count": 55,
   "metadata": {},
   "outputs": [],
   "source": [
    "enrichment_prompt = f\"\"\" You are given the following medical guidelines:\n",
    "\n",
    "{colonoscopy_guidelines}\n",
    "\n",
    "These guidelines describe criteria for a treatment. The guidelines will be used along with patients' health records to determine if a treatment is needed. \n",
    "\n",
    "Enrich these guidelines by adding a section that details potential evidences to look for in the patients records to make a (Yes or No) decision about the treatment.   \n",
    "\"\"\""
   ]
  },
  {
   "cell_type": "code",
   "execution_count": 89,
   "metadata": {},
   "outputs": [],
   "source": [
    "enrichment_prompt_2 = f\"\"\" You are given the following medical guidelines:\n",
    "\n",
    "{colonoscopy_guidelines}\n",
    "\n",
    "These guidelines describe criteria for a treatment. The guidelines will be used along with patients' health records to determine if a treatment is needed. \n",
    "\n",
    "Use these guidelines to create sets of potential evidences to look for in the patients records that would qualify the patients for the treatment.   \n",
    "\"\"\""
   ]
  },
  {
   "cell_type": "code",
   "execution_count": 90,
   "metadata": {},
   "outputs": [
    {
     "data": {
      "text/markdown": [
       "Based on the provided medical guidelines for a colonoscopy, flexible (diagnostic), the following sets of potential evidences can be used to determine if a patient qualifies for the treatment:\n",
       "\n",
       "1. Colorectal cancer screening criteria:\n",
       "   - Age 45 years or older.\n",
       "   - No colonoscopy in the past 10 years.\n",
       "\n",
       "2. High-risk family history criteria:\n",
       "   - Colorectal cancer diagnosed in one or more first-degree relatives of any age.\n",
       "   - Age 40 years or older.\n",
       "   - Symptomatic (e.g., abdominal pain, iron deficiency anemia, rectal bleeding).\n",
       "\n",
       "3. Family member with colonic adenomatous polyposis of unknown etiology.\n",
       "\n",
       "4. Juvenile polyposis syndrome diagnosis criteria:\n",
       "   - Age 12 years or older and symptomatic (e.g., abdominal pain, iron deficiency anemia, rectal bleeding, telangiectasia).\n",
       "   - Age younger than 12 years and symptomatic (e.g., abdominal pain, iron deficiency anemia, rectal bleeding, telangiectasia).\n",
       "\n",
       "These sets of potential evidences can be checked in the patient's medical records to determine if they meet the criteria for a colonoscopy, flexible (diagnostic) treatment."
      ],
      "text/plain": [
       "<IPython.core.display.Markdown object>"
      ]
     },
     "execution_count": 90,
     "metadata": {},
     "output_type": "execute_result"
    }
   ],
   "source": [
    "enrichment = call_model(enrichment_prompt_2) \n",
    "Markdown(enrichment)"
   ]
  },
  {
   "cell_type": "code",
   "execution_count": 85,
   "metadata": {},
   "outputs": [],
   "source": [
    "naive_prompt = f\"\"\" You are given the following medical guidelines. These guidelines describe criteria for a treatment:\n",
    "\n",
    "{colonoscopy_guidelines}\n",
    "\n",
    "You are also given a patient's health record below.\n",
    "\n",
    "{medical_record}\n",
    "\n",
    "You must use the guidelines and patient's health record to determine if the patient qualifies for the treatment described in the guidelines.\n",
    "\n",
    "For each point in the guidelines, determine if the patient qualifies or not based on their health record. \n",
    "\n",
    "In your output you must go through each point in the guidelines and do one of the following:\n",
    "* Refer to qualifying evidence in the document if present.\n",
    "* Mention evidence is missing to qualify.\n",
    "\n",
    "At the end of your analysis, you should make a recomendation.\n",
    "If qualifying evidence is found, the patient must be recomended for the treatment.\n",
    "If qualifying evidence is not found, you must list all the additional peices of information that may be required to make the decision.\n",
    "\n",
    "You must not assume or make up information about the patient.\n",
    "\"\"\""
   ]
  },
  {
   "cell_type": "code",
   "execution_count": 86,
   "metadata": {},
   "outputs": [
    {
     "data": {
      "text/markdown": [
       "Based on the provided guidelines and the patient's health record, let's go through each point to determine if the patient qualifies for the treatment.\n",
       "\n",
       "1. Colorectal cancer screening, as indicated by 1 or more of the following:\n",
       "   - Patient has average-risk or higher, as indicated by ALL of the following:\n",
       "     - Age 45 years or older.\n",
       "     - No colonoscopy in the past 10 years.\n",
       "\n",
       "Evidence in the health record: The patient had a colonoscopy on 07/22/2020, which was within the past 10 years. Therefore, the patient does not meet the criteria for colorectal cancer screening based on age and timing.\n",
       "\n",
       "Additional information needed: None. The patient does not qualify based on the provided evidence.\n",
       "\n",
       "2. High-risk family history, as indicated by 1 or more of the following:\n",
       "   - Colorectal cancer diagnosed in one or more first-degree relatives of any age and ALL of the following:\n",
       "     - Age 40 years or older.\n",
       "     - Symptomatic (e.g., abdominal pain, iron deficiency anemia, rectal bleeding).\n",
       "   - Family member with colonic adenomatous polyposis of unknown etiology.\n",
       "\n",
       "Evidence in the health record: There is no mention of a high-risk family history of colorectal cancer or colonic adenomatous polyposis in the patient's health record.\n",
       "\n",
       "Additional information needed: Family history information is needed to determine if the patient qualifies based on high-risk family history.\n",
       "\n",
       "3. Juvenile polyposis syndrome diagnosis indicated by 1 or more of the following:\n",
       "   - Age 12 years or older and symptomatic (e.g., abdominal pain, iron deficiency anemia, rectal bleeding, telangiectasia).\n",
       "   - Age younger than 12 years and symptomatic (e.g., abdominal pain, iron deficiency anemia, rectal bleeding, telangiectasia).\n",
       "\n",
       "Evidence in the health record: There is no mention of a juvenile polyposis syndrome diagnosis or symptoms related to it in the patient's health record.\n",
       "\n",
       "Additional information needed: No additional information is needed since there is no indication of juvenile polyposis syndrome in the health record.\n",
       "\n",
       "Based on the provided evidence, the patient does not currently qualify for a colonoscopy, as indicated by the guidelines. The patient's last colonoscopy was within the past 10 years, and there is no evidence of high-risk family history or juvenile polyposis syndrome.\n",
       "\n",
       "Please note that it is important to consult with the patient's healthcare provider for a comprehensive evaluation and to determine the most appropriate course of action based on the patient's specific health history and needs."
      ],
      "text/plain": [
       "<IPython.core.display.Markdown object>"
      ]
     },
     "execution_count": 86,
     "metadata": {},
     "output_type": "execute_result"
    }
   ],
   "source": [
    "naive_output = call_model(naive_prompt)\n",
    "Markdown(naive_output)"
   ]
  },
  {
   "cell_type": "markdown",
   "metadata": {},
   "source": [
    "### Structured Data Extraction"
   ]
  },
  {
   "cell_type": "code",
   "execution_count": 11,
   "metadata": {},
   "outputs": [
    {
     "name": "stderr",
     "output_type": "stream",
     "text": [
      "c:\\Users\\Balaj\\anaconda3\\envs\\genai\\lib\\site-packages\\langchain_core\\_api\\deprecation.py:117: LangChainDeprecationWarning: The function `run` was deprecated in LangChain 0.1.0 and will be removed in 0.2.0. Use invoke instead.\n",
      "  warn_deprecated(\n"
     ]
    },
    {
     "name": "stdout",
     "output_type": "stream",
     "text": [
      "{'patient_information': {'patient_name': 'James Freeman', 'dob': '06/16/1982', 'mrn': '456789123', 'sex': 'Male', 'address': '4521 Maple Avenue, Dallas, Texas 75219', 'contact_number': '(214) 555-0123'}, 'presenting_complaint': {'symptoms': 'Occasional rectal bleeding and abdominal discomfort for the past 6 months.', 'duration': '6 months.'}, 'medical_history': {'family_history': 'Father had colorectal cancer at age 68.', 'personal_medical_history': {'Diagnosis': {'Name': 'Hypertension', 'Date': '', 'Details': 'managed with medication'}, 'Treatments': {'Name': 'Lisinopril 10mg daily', 'Date': '', 'Details': ''}}, 'medications': 'Lisinopril 10mg daily', 'allergies': 'No known drug allergies'}, 'vitals': {'height': 6.2, 'weight': 165, 'bmi': 31.2, 'pulse': 96}, 'Diagnostic Tests': 'Blood Tests: Hemoglobin slightly low at 12.4 g/dL, rest of the complete blood count within normal limits. Normal liver function tests. Imaging Studies: None conducted.', 'history': 'Appendectomy (44970): Patient underwent an appendectomy due to acute appendicitis in 2015. (Laparoscopy, surgical, appendectomy). Knee Arthroscopy (29881): Underwent left knee arthroscopy due to meniscal tear in 2018. (Arthroscopy, knee, surgical; with meniscectomy [medial OR lateral, including any meniscal shaving]).', 'clinical_impression': 'Possible internal hemorrhoids or polyps; colorectal cancer to be ruled out.', 'laboratory_results': '', 'plan': {'planned treatments': 'Colonoscopy: Scheduled for 12/15/2023. The purpose is to investigate the cause of symptoms and to screen for colorectal cancer or polyps. This code represents a standard diagnostic colonoscopy.', 'pre_procedure_instructions': 'Clear liquid diet 24 hours before the procedure. Bowel preparation with polyethylene glycol solution starting the evening before the procedure. No solid foods, milk, or orange/red colored liquids. Regular medications can be taken with small sips of water.', 'post_procedure_care': 'Patient to be observed for any signs of complications such as severe pain, fever, or excessive bleeding. Advised to rest for the remainder of the day. Normal diet can be resumed the following day unless otherwise advised.', 'consent': 'The patient has been informed about the benefits, risks, and alternatives to the procedure and has given informed consent.'}, 'follow_up': 'Appointment scheduled for 12/22/2023 to discuss the results of the colonoscopy and next steps in management.'}\n"
     ]
    }
   ],
   "source": [
    "from kor.extraction import create_extraction_chain\n",
    "from kor.nodes import Object, Text, Number\n",
    "\n",
    "# Schema Definition\n",
    "schema = Object(\n",
    "    id=\"health_record\",\n",
    "    description=\"Patient Health Record\",\n",
    "    attributes=[\n",
    "        Object(\n",
    "            id=\"patient_information\",\n",
    "            description=\"Patient Information\",\n",
    "            attributes=[\n",
    "                Text(id=\"patient_name\", description=\"Patient Name\"),\n",
    "                Text(id=\"dob\", description=\"Date of Birth\"),\n",
    "                Text(id=\"mrn\", description=\"Medical Record Number\"),\n",
    "                Text(id=\"sex\", description=\"Gender\"),\n",
    "                Text(id=\"address\", description=\"Address\"),\n",
    "                Text(id=\"contact_number\", description=\"Contact Number\"),\n",
    "            ],\n",
    "        ),\n",
    "        Object(\n",
    "            id=\"presenting_complaint\",\n",
    "            description=\"Presenting Complaint\",\n",
    "            attributes=[\n",
    "                Text(id=\"symptoms\", description=\"Symptoms\"),\n",
    "                Text(id=\"duration\", description=\"Duration\"),\n",
    "            ],\n",
    "        ),\n",
    "        Object(\n",
    "            id=\"medical_history\",\n",
    "            description=\"Medical History\",\n",
    "            attributes=[\n",
    "                Text(id=\"family_history\", description=\"Family History\"),\n",
    "                Object(\n",
    "                    id=\"personal_medical_history\",\n",
    "                    description=\"Personal Medical History\",\n",
    "                    attributes=[\n",
    "                        Object(id=\"Diagnosis\", description=\"Past Patient Diagnosis\",\n",
    "                             attributes=[\n",
    "                                Text(id=\"Name\", description=\"Name of the Diagnosis\"),\n",
    "                                Text(id=\"Date\", description=\"Date of the Diagnosis\"),\n",
    "                                Text(id=\"Details\", description=\"Details of the Diagnosis\"),\n",
    "                             ]),\n",
    "                        Object(id=\"Treatments\", description=\"Past Treatments\",\n",
    "                            attributes=[\n",
    "                                Text(id=\"Name\", description=\"Name of the Treatment\"),\n",
    "                                Text(id=\"Date\", description=\"Date of the Treatment\"),\n",
    "                                Text(id=\"Details\", description=\"Details of the Treatment\"),\n",
    "                             ]),\n",
    "                    ],\n",
    "                ),\n",
    "                Text(id=\"medications\", description=\"Medications\"),\n",
    "                Text(id=\"allergies\", description=\"Allergies\"),\n",
    "            ],\n",
    "        ),\n",
    "        Object(\n",
    "            id=\"vitals\",\n",
    "            description=\"Vitals\",\n",
    "            attributes=[\n",
    "                Number(id=\"height\", description=\"Height\"),\n",
    "                Number(id=\"weight\", description=\"Weight\"),\n",
    "                Number(id=\"bmi\", description=\"BMI\"),\n",
    "                Number(id=\"pulse\", description=\"Pulse\"),\n",
    "            ],\n",
    "        ),\n",
    "        Text(id=\"Diagnostic Tests\", description=\"Diagnostic Tests\"),\n",
    "        Text(id=\"history\", description=\"History\"),\n",
    "        Text(id=\"clinical_impression\", description=\"Clinical Impression\"),\n",
    "        Text(id=\"laboratory_results\", description=\"Laboratory Results\"),\n",
    "        Object(\n",
    "            id=\"plan\",\n",
    "            description=\"Plan\",\n",
    "            attributes=[\n",
    "                Text(id=\"planned treatments\", description=\"Treatments planned\"),\n",
    "                Text(id=\"pre_procedure_instructions\", description=\"Pre-Procedure Instructions\"),\n",
    "                Text(id=\"post_procedure_care\", description=\"Post-Procedure Care\"),\n",
    "                Text(id=\"consent\", description=\"Consent\"),\n",
    "            ],\n",
    "        ),\n",
    "        Text(id=\"follow_up\", description=\"Follow-Up\"),\n",
    "    ],\n",
    ")\n",
    "\n",
    "# Langchain LLM Initialization (Assuming you have the llm and chain initialized as per the provided documentation)\n",
    "\n",
    "# Create Extraction Chain\n",
    "chain = create_extraction_chain(gpt, schema, encoder_or_encoder_class=\"json\", input_formatter=None)\n",
    "\n",
    "# Run extraction\n",
    "result = chain.run((medical_record))\n",
    "\n",
    "# Extracted data\n",
    "extracted_data = result['data']['health_record']\n",
    "\n",
    "# Output the extracted data (replace with your desired output format)\n",
    "print(extracted_data)\n"
   ]
  },
  {
   "cell_type": "code",
   "execution_count": 12,
   "metadata": {},
   "outputs": [
    {
     "data": {
      "text/plain": [
       "{'data': {'health_record': {'patient_information': {'patient_name': 'James Freeman',\n",
       "    'dob': '06/16/1982',\n",
       "    'mrn': '456789123',\n",
       "    'sex': 'Male',\n",
       "    'address': '4521 Maple Avenue, Dallas, Texas 75219',\n",
       "    'contact_number': '(214) 555-0123'},\n",
       "   'presenting_complaint': {'symptoms': 'Occasional rectal bleeding and abdominal discomfort for the past 6 months.',\n",
       "    'duration': '6 months.'},\n",
       "   'medical_history': {'family_history': 'Father had colorectal cancer at age 68.',\n",
       "    'personal_medical_history': {'Diagnosis': {'Name': 'Hypertension',\n",
       "      'Date': '',\n",
       "      'Details': 'managed with medication'},\n",
       "     'Treatments': {'Name': 'Lisinopril 10mg daily',\n",
       "      'Date': '',\n",
       "      'Details': ''}},\n",
       "    'medications': 'Lisinopril 10mg daily',\n",
       "    'allergies': 'No known drug allergies'},\n",
       "   'vitals': {'height': 6.2, 'weight': 165, 'bmi': 31.2, 'pulse': 96},\n",
       "   'Diagnostic Tests': 'Blood Tests: Hemoglobin slightly low at 12.4 g/dL, rest of the complete blood count within normal limits. Normal liver function tests. Imaging Studies: None conducted.',\n",
       "   'history': 'Appendectomy (44970): Patient underwent an appendectomy due to acute appendicitis in 2015. (Laparoscopy, surgical, appendectomy). Knee Arthroscopy (29881): Underwent left knee arthroscopy due to meniscal tear in 2018. (Arthroscopy, knee, surgical; with meniscectomy [medial OR lateral, including any meniscal shaving]).',\n",
       "   'clinical_impression': 'Possible internal hemorrhoids or polyps; colorectal cancer to be ruled out.',\n",
       "   'laboratory_results': '',\n",
       "   'plan': {'planned treatments': 'Colonoscopy: Scheduled for 12/15/2023. The purpose is to investigate the cause of symptoms and to screen for colorectal cancer or polyps. This code represents a standard diagnostic colonoscopy.',\n",
       "    'pre_procedure_instructions': 'Clear liquid diet 24 hours before the procedure. Bowel preparation with polyethylene glycol solution starting the evening before the procedure. No solid foods, milk, or orange/red colored liquids. Regular medications can be taken with small sips of water.',\n",
       "    'post_procedure_care': 'Patient to be observed for any signs of complications such as severe pain, fever, or excessive bleeding. Advised to rest for the remainder of the day. Normal diet can be resumed the following day unless otherwise advised.',\n",
       "    'consent': 'The patient has been informed about the benefits, risks, and alternatives to the procedure and has given informed consent.'},\n",
       "   'follow_up': 'Appointment scheduled for 12/22/2023 to discuss the results of the colonoscopy and next steps in management.'}},\n",
       " 'raw': '<json>{\\n  \"health_record\": {\\n    \"patient_information\": {\\n      \"patient_name\": \"James Freeman\",\\n      \"dob\": \"06/16/1982\",\\n      \"mrn\": \"456789123\",\\n      \"sex\": \"Male\",\\n      \"address\": \"4521 Maple Avenue, Dallas, Texas 75219\",\\n      \"contact_number\": \"(214) 555-0123\"\\n    },\\n    \"presenting_complaint\": {\\n      \"symptoms\": \"Occasional rectal bleeding and abdominal discomfort for the past 6 months.\",\\n      \"duration\": \"6 months.\"\\n    },\\n    \"medical_history\": {\\n      \"family_history\": \"Father had colorectal cancer at age 68.\",\\n      \"personal_medical_history\": {\\n        \"Diagnosis\": {\\n          \"Name\": \"Hypertension\",\\n          \"Date\": \"\",\\n          \"Details\": \"managed with medication\"\\n        },\\n        \"Treatments\": {\\n          \"Name\": \"Lisinopril 10mg daily\",\\n          \"Date\": \"\",\\n          \"Details\": \"\"\\n        }\\n      },\\n      \"medications\": \"Lisinopril 10mg daily\",\\n      \"allergies\": \"No known drug allergies\"\\n    },\\n    \"vitals\": {\\n      \"height\": 6.2,\\n      \"weight\": 165,\\n      \"bmi\": 31.2,\\n      \"pulse\": 96\\n    },\\n    \"Diagnostic Tests\": \"Blood Tests: Hemoglobin slightly low at 12.4 g/dL, rest of the complete blood count within normal limits. Normal liver function tests. Imaging Studies: None conducted.\",\\n    \"history\": \"Appendectomy (44970): Patient underwent an appendectomy due to acute appendicitis in 2015. (Laparoscopy, surgical, appendectomy). Knee Arthroscopy (29881): Underwent left knee arthroscopy due to meniscal tear in 2018. (Arthroscopy, knee, surgical; with meniscectomy [medial OR lateral, including any meniscal shaving]).\",\\n    \"clinical_impression\": \"Possible internal hemorrhoids or polyps; colorectal cancer to be ruled out.\",\\n    \"laboratory_results\": \"\",\\n    \"plan\": {\\n      \"planned treatments\": \"Colonoscopy: Scheduled for 12/15/2023. The purpose is to investigate the cause of symptoms and to screen for colorectal cancer or polyps. This code represents a standard diagnostic colonoscopy.\",\\n      \"pre_procedure_instructions\": \"Clear liquid diet 24 hours before the procedure. Bowel preparation with polyethylene glycol solution starting the evening before the procedure. No solid foods, milk, or orange/red colored liquids. Regular medications can be taken with small sips of water.\",\\n      \"post_procedure_care\": \"Patient to be observed for any signs of complications such as severe pain, fever, or excessive bleeding. Advised to rest for the remainder of the day. Normal diet can be resumed the following day unless otherwise advised.\",\\n      \"consent\": \"The patient has been informed about the benefits, risks, and alternatives to the procedure and has given informed consent.\"\\n    },\\n    \"follow_up\": \"Appointment scheduled for 12/22/2023 to discuss the results of the colonoscopy and next steps in management.\"\\n  }\\n}</json>',\n",
       " 'errors': [],\n",
       " 'validated_data': {}}"
      ]
     },
     "execution_count": 12,
     "metadata": {},
     "output_type": "execute_result"
    }
   ],
   "source": [
    "result"
   ]
  },
  {
   "cell_type": "code",
   "execution_count": 26,
   "metadata": {},
   "outputs": [
    {
     "data": {
      "application/json": {
       "Diagnostic Tests": "Blood Tests: Hemoglobin slightly low at 12.4 g/dL, rest of the complete blood count within normal limits. Normal liver function tests. Imaging Studies: None conducted.",
       "clinical_impression": "Possible internal hemorrhoids or polyps; colorectal cancer to be ruled out.",
       "follow_up": "Appointment scheduled for 12/22/2023 to discuss the results of the colonoscopy and next steps in management.",
       "history": "Appendectomy (44970): Patient underwent an appendectomy due to acute appendicitis in 2015. (Laparoscopy, surgical, appendectomy). Knee Arthroscopy (29881): Underwent left knee arthroscopy due to meniscal tear in 2018. (Arthroscopy, knee, surgical; with meniscectomy [medial OR lateral, including any meniscal shaving]).",
       "laboratory_results": "N/A",
       "medical_history": {
        "allergies": "No known drug allergies",
        "family_history": "Father had colorectal cancer at age 68.",
        "medications": "Lisinopril 10mg daily",
        "personal_medical_history": {
         "Diagnosis": {
          "Date": "N/A",
          "Details": "Managed with medication",
          "Name": "Hypertension"
         },
         "Treatments": {
          "Date": "N/A",
          "Details": "Prescribed for hypertension",
          "Name": "Lisinopril 10mg daily"
         }
        }
       },
       "patient_information": {
        "address": "4521 Maple Avenue, Dallas, Texas 75219",
        "contact_number": "(214) 555-0123",
        "dob": "06/16/1982",
        "mrn": "456789123",
        "patient_name": "James Freeman",
        "sex": "Male"
       },
       "plan": {
        "consent": "The patient has been informed about the benefits, risks, and alternatives to the procedure and has given informed consent.",
        "planned treatments": "Colonoscopy: Scheduled for 12/15/2023. The purpose is to investigate the cause of symptoms and to screen for colorectal cancer or polyps. This code represents a standard diagnostic colonoscopy.",
        "post_procedure_care": "Patient to be observed for any signs of complications such as severe pain, fever, or excessive bleeding. Advised to rest for the remainder of the day. Normal diet can be resumed the following day unless otherwise advised.",
        "pre_procedure_instructions": "Clear liquid diet 24 hours before the procedure. Bowel preparation with polyethylene glycol solution starting the evening before the procedure. No solid foods, milk, or orange/red colored liquids. Regular medications can be taken with small sips of water."
       },
       "presenting_complaint": {
        "duration": "6 months",
        "symptoms": "Occasional rectal bleeding and abdominal discomfort for the past 6 months."
       },
       "vitals": {
        "bmi": 31.2,
        "height": 6.2,
        "pulse": 96,
        "weight": 165
       }
      },
      "text/plain": [
       "<IPython.core.display.JSON object>"
      ]
     },
     "execution_count": 26,
     "metadata": {
      "application/json": {
       "expanded": false,
       "root": "root"
      }
     },
     "output_type": "execute_result"
    }
   ],
   "source": [
    "from IPython.display import JSON\n",
    "JSON(extracted_data)"
   ]
  },
  {
   "cell_type": "code",
   "execution_count": null,
   "metadata": {},
   "outputs": [],
   "source": [
    "structured_enriched_guidelines = \"\"\"\n",
    "**Guidelines for Colonoscopy, Flexible; Diagnostic:**\n",
    "\n",
    "1. **Colorectal Cancer Screening:**\n",
    "   - *Evidence to Look For:*\n",
    "     - Age verification (45 years or older).\n",
    "     - Confirmation of no colonoscopy in the past 10 years.\n",
    "   - *Relevant Sections:*\n",
    "     - Patient's date of birth.\n",
    "     - Documentation of previous colonoscopies in the medical history.\n",
    "   - *Additional Information:*\n",
    "     - Request details on any previous colonoscopies that might not be clearly documented.\n",
    "\n",
    "2. **High-Risk Family History:**\n",
    "   - *Evidence to Look For:*\n",
    "     - Family history of colorectal cancer in first-degree relatives.\n",
    "     - Age of affected family members (40 years or older).\n",
    "     - Symptoms in affected family members (abdominal pain, iron deficiency anemia, rectal bleeding).\n",
    "     - Family history of colonic adenomatous polyposis of unknown etiology.\n",
    "   - *Relevant Sections:*\n",
    "     - Family history section.\n",
    "   - *Additional Information:*\n",
    "     - Request specific details on the age, symptoms, and diagnosis of the patient's father with colorectal cancer.\n",
    "\n",
    "3. **Juvenile Polyposis Syndrome Diagnosis:**\n",
    "   - *Evidence to Look For:*\n",
    "     - Age verification (12 years or older for symptomatic cases).\n",
    "     - Symptoms (abdominal pain, iron deficiency anemia, rectal bleeding, telangiectasia).\n",
    "   - *Relevant Sections:*\n",
    "     - Patient's date of birth.\n",
    "     - Presenting complaint section for symptoms.\n",
    "   - *Additional Information:*\n",
    "     - Request information about the patient's age at the onset of symptoms and details if symptoms are present.\n",
    "\"\"\""
   ]
  },
  {
   "cell_type": "code",
   "execution_count": null,
   "metadata": {},
   "outputs": [],
   "source": [
    "example_analysis_additional_information = \"\"\"\n",
    "**Example of Analysis**\n",
    "\n",
    "- **Colorectal Cancer Screening:**\n",
    "  - Patient is 57 years old (satisfying age criteria).\n",
    "  - No clear documentation of a colonoscopy in the past 10 years.\n",
    "  - *Additional Information:*\n",
    "    - Request clarification on any undisclosed colonoscopies.\n",
    "\n",
    "- **High-Risk Family History:**\n",
    "  - Father had colorectal cancer (meeting family history criteria).\n",
    "  - Age at diagnosis is not specified.\n",
    "  - Symptoms of the father are not fully described.\n",
    "  - *Additional Information:*\n",
    "    - Request details on the age and symptoms of Patients's father during colorectal cancer diagnosis.\n",
    "\n",
    "- **Juvenile Polyposis Syndrome Diagnosis:**\n",
    "  - No indication of juvenile polyposis syndrome in the medical record.\n",
    "  - *Additional Information:*\n",
    "    - Inquire about any history or symptoms related to juvenile polyposis syndrome.\n",
    "\n",
    "\"\"\"\n",
    "\n",
    "example_analysis_qualifies = \"\"\"\n",
    "**Example of Analysis**\n",
    "\n",
    "- **Colorectal Cancer Screening:**\n",
    "  - Patient is 40 years old.\n",
    "  - No clear documentation of a colonoscopy in the past 10 years.\n",
    "  - *Additional Information:*\n",
    "    - Request clarification on any undisclosed colonoscopies.\n",
    "\n",
    "- **High-Risk Family History:** (Qualifies)\n",
    "  - Father had colorectal cancer (meeting family history criteria).\n",
    "  - Father's age at diagnosis 55.\n",
    "  - Symptoms of the father include: abdominal pain and rectal bleeding .\n",
    "  - *Additional Information:*\n",
    "    - No Additional Information Required\n",
    "\n",
    "- **Juvenile Polyposis Syndrome Diagnosis:**\n",
    "  - No indication of juvenile polyposis syndrome in the medical record.\n",
    "  - *Additional Information:*\n",
    "    - Inquire about any history or symptoms related to juvenile polyposis syndrome.\n",
    "\n",
    "    \n",
    "Patient eligible for treatment due to High-Risk Family History\n",
    "\"\"\""
   ]
  },
  {
   "cell_type": "code",
   "execution_count": null,
   "metadata": {},
   "outputs": [],
   "source": [
    "enriched_guidelines_2 = \"\"\"\n",
    "Structured Guidelines for Colonoscopy, Flexible; Diagnostic:\n",
    "\n",
    "1. **Colorectal Cancer Screening:**\n",
    "   - Indicated for individuals with average-risk or higher, meeting ALL of the following criteria:\n",
    "     - Age 45 years or older.\n",
    "     - No colonoscopy in the past 10 years.\n",
    "\n",
    "2. **High-Risk Family History:**\n",
    "   - Indicated for individuals with a high-risk family history, meeting 1 or more of the following criteria:\n",
    "     - Colorectal cancer diagnosed in one or more first-degree relatives of any age, meeting ALL of the following:\n",
    "       - Age 40 years or older.\n",
    "       - Symptomatic (e.g., abdominal pain, iron deficiency anemia, rectal bleeding).\n",
    "     - Family member with colonic adenomatous polyposis of unknown etiology.\n",
    "\n",
    "3. **Juvenile Polyposis Syndrome Diagnosis:**\n",
    "   - Indicated for individuals with a juvenile polyposis syndrome diagnosis, meeting 1 or more of the following criteria:\n",
    "     - Age 12 years or older and symptomatic (e.g., abdominal pain, iron deficiency anemia, rectal bleeding, telangiectasia).\n",
    "     - Age younger than 12 years and symptomatic (e.g., abdominal pain, iron deficiency anemia, rectal bleeding, telangiectasia).\n",
    "\"\"\""
   ]
  },
  {
   "cell_type": "markdown",
   "metadata": {},
   "source": [
    "### Using Claude"
   ]
  },
  {
   "cell_type": "code",
   "execution_count": 27,
   "metadata": {},
   "outputs": [],
   "source": [
    "!pip install --upgrade --quiet  boto3"
   ]
  },
  {
   "cell_type": "code",
   "execution_count": 46,
   "metadata": {},
   "outputs": [],
   "source": [
    "import boto3"
   ]
  },
  {
   "cell_type": "code",
   "execution_count": null,
   "metadata": {},
   "outputs": [],
   "source": [
    "bedrock = boto3.client(\n",
    "    service_name=\"bedrock\",\n",
    "    region_name=\"us-east-1\",\n",
    "    endpoint_url=\"https://bedrock.us-east-1.amazonaws.com\",\n",
    ")\n",
    "bedrock_runtime = boto3.client(service_name=\"bedrock-runtime\")"
   ]
  },
  {
   "cell_type": "code",
   "execution_count": 44,
   "metadata": {},
   "outputs": [],
   "source": [
    "from langchain_community.llms import Bedrock\n",
    "\n",
    "inference_modifier = {\n",
    "    \"max_tokens_to_sample\": 4000,\n",
    "    \"temperature\": 0.0,\n",
    "    \"top_p\": 1,\n",
    "}\n",
    "\n",
    "claude = Bedrock(\n",
    "    credentials_profile_name=\"default\", model_id=\"anthropic.claude-v2:1\", model_kwargs=inference_modifier\n",
    ")"
   ]
  },
  {
   "cell_type": "code",
   "execution_count": 45,
   "metadata": {},
   "outputs": [
    {
     "data": {
      "text/plain": [
       "' The capital of Spain is Madrid.'"
      ]
     },
     "execution_count": 45,
     "metadata": {},
     "output_type": "execute_result"
    }
   ],
   "source": [
    "claude('whats the capital of spain')\n"
   ]
  },
  {
   "cell_type": "code",
   "execution_count": null,
   "metadata": {},
   "outputs": [],
   "source": []
  }
 ],
 "metadata": {
  "kernelspec": {
   "display_name": "genai",
   "language": "python",
   "name": "python3"
  },
  "language_info": {
   "codemirror_mode": {
    "name": "ipython",
    "version": 3
   },
   "file_extension": ".py",
   "mimetype": "text/x-python",
   "name": "python",
   "nbconvert_exporter": "python",
   "pygments_lexer": "ipython3",
   "version": "3.10.13"
  }
 },
 "nbformat": 4,
 "nbformat_minor": 2
}
